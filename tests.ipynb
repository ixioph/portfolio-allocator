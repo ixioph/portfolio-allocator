{
 "cells": [
  {
   "cell_type": "code",
   "execution_count": 1,
   "metadata": {},
   "outputs": [],
   "source": [
    "from beta import Beta, Portfolio"
   ]
  },
  {
   "cell_type": "code",
   "execution_count": 84,
   "metadata": {},
   "outputs": [],
   "source": [
    "import matplotlib.pyplot as plt\n",
    "import yfinance as yf\n",
    "import pandas as pd\n",
    "import numpy as np\n",
    "import math\n",
    "import sys"
   ]
  },
  {
   "cell_type": "code",
   "execution_count": 5,
   "metadata": {},
   "outputs": [
    {
     "name": "stdout",
     "output_type": "stream",
     "text": [
      "PYPL/SPY::\n",
      "Correlation: 0.5734573548346732\n",
      "Covariance: 285.1883456625234\n",
      "Variance: 477.74349159741473\n",
      "\n",
      "BETA:  0.5969486778541948\n"
     ]
    }
   ],
   "source": [
    "beta = Beta('PYPL', start='2019-1-1', end='2020-8-1')"
   ]
  },
  {
   "cell_type": "markdown",
   "metadata": {},
   "source": [
    "### Porfolio Creation"
   ]
  },
  {
   "cell_type": "markdown",
   "metadata": {},
   "source": [
    "### Process \n",
    "  1. Retrieve the daily charts for each ticker\n",
    "  2. Calculate Sharpe ratio relative to S&P500 Xyear\n",
    "  3. Minimize for the -Sharpe ratio, such that sum of all allocations = 1.0"
   ]
  },
  {
   "cell_type": "code",
   "execution_count": 158,
   "metadata": {},
   "outputs": [],
   "source": [
    "test_port = {'SQ':0.15, 'PYPL':0.15, 'AAPL':0.1, \n",
    "             'AMZN':0.05, 'FB':0.05, 'GOOGL':0.05, \n",
    "             'TSLA':0.1, 'SLV':0.2, 'GLD':0.15}"
   ]
  },
  {
   "cell_type": "code",
   "execution_count": 160,
   "metadata": {},
   "outputs": [
    {
     "name": "stdout",
     "output_type": "stream",
     "text": [
      "Portfolio: dict_keys(['SQ', 'PYPL', 'AAPL', 'AMZN', 'FB', 'GOOGL', 'TSLA', 'SLV', 'GLD'])\n"
     ]
    },
    {
     "data": {
      "text/plain": [
       "[{'SQ': {'returns': 0.7260401435597499,\n",
       "   'numerator': 0.5406774774739298,\n",
       "   'denominator': 17.162499035929166,\n",
       "   'sharpe': 0.5001013460435015,\n",
       "   'alloc': 0.15}},\n",
       " {'PYPL': {'returns': 0.955420365014461,\n",
       "   'numerator': 0.770057698928641,\n",
       "   'denominator': 22.548342716612062,\n",
       "   'sharpe': 0.5421368280964167,\n",
       "   'alloc': 0.15}},\n",
       " {'AAPL': {'returns': 1.2963963477227294,\n",
       "   'numerator': 1.1110336816369093,\n",
       "   'denominator': 59.5679175705631,\n",
       "   'sharpe': 0.2960840942286428,\n",
       "   'alloc': 0.1}},\n",
       " {'AMZN': {'returns': 0.8165370375685215,\n",
       "   'numerator': 0.6311743714827014,\n",
       "   'denominator': 364.1906245991887,\n",
       "   'sharpe': 0.027511917793577045,\n",
       "   'alloc': 0.05}},\n",
       " {'FB': {'returns': 0.5807939178662678,\n",
       "   'numerator': 0.3954312517804477,\n",
       "   'denominator': 21.88541231691316,\n",
       "   'sharpe': 0.2868246860559752,\n",
       "   'alloc': 0.05}},\n",
       " {'GOOGL': {'returns': 0.25190357999242785,\n",
       "   'numerator': 0.06654091390660777,\n",
       "   'denominator': 130.7309737489679,\n",
       "   'sharpe': 0.008079984650580182,\n",
       "   'alloc': 0.05}},\n",
       " {'TSLA': {'returns': 4.309139485695201,\n",
       "   'numerator': 4.123776819609382,\n",
       "   'denominator': 347.73963797094996,\n",
       "   'sharpe': 0.18825270522535165,\n",
       "   'alloc': 0.1}},\n",
       " {'SLV': {'returns': 0.5740097289784571,\n",
       "   'numerator': 0.38864706289263706,\n",
       "   'denominator': 1.6768829211110665,\n",
       "   'sharpe': 3.679195953078078,\n",
       "   'alloc': 0.2}},\n",
       " {'GLD': {'returns': 0.5070708712613783,\n",
       "   'numerator': 0.3217082051755582,\n",
       "   'denominator': 15.008027102659454,\n",
       "   'sharpe': 0.3402818637524883,\n",
       "   'alloc': 0.15}}]"
      ]
     },
     "execution_count": 160,
     "metadata": {},
     "output_type": "execute_result"
    }
   ],
   "source": [
    "p = Portfolio(portfolio=test_port.keys(), weights=test_port)\n",
    "print(p.sharpe)\n",
    "print(p.breakdown)"
   ]
  }
 ],
 "metadata": {
  "kernelspec": {
   "display_name": "Python 3",
   "language": "python",
   "name": "python3"
  },
  "language_info": {
   "codemirror_mode": {
    "name": "ipython",
    "version": 3
   },
   "file_extension": ".py",
   "mimetype": "text/x-python",
   "name": "python",
   "nbconvert_exporter": "python",
   "pygments_lexer": "ipython3",
   "version": "3.6.8"
  }
 },
 "nbformat": 4,
 "nbformat_minor": 2
}
