{
 "cells": [
  {
   "cell_type": "code",
   "execution_count": 1,
   "metadata": {},
   "outputs": [],
   "source": [
    "from beta import Beta"
   ]
  },
  {
   "cell_type": "code",
   "execution_count": 5,
   "metadata": {},
   "outputs": [
    {
     "name": "stdout",
     "output_type": "stream",
     "text": [
      "PYPL/SPY::\n",
      "Correlation: 0.5734573548346732\n",
      "Covariance: 285.1883456625234\n",
      "Variance: 477.74349159741473\n",
      "\n",
      "BETA:  0.5969486778541948\n"
     ]
    }
   ],
   "source": [
    "beta = Beta('PYPL', start='2019-1-1', end='2020-8-1')"
   ]
  },
  {
   "cell_type": "markdown",
   "metadata": {},
   "source": [
    "### Initial Portfolio: \n",
    "[‘TSLA’, ‘MCD’, ‘WMT’, ‘COST’, ‘ARCT’, ‘CRSP’, ‘TWST’, ‘EDIT’, ‘VCYT’, ‘DEO’, ‘STZ’, ‘LMND’, ‘ETSY’, ‘WORK’, ‘ZOOM’, ‘NET’, ‘OSTK’, ‘DOCU’, ‘SAP’, ‘SQ’, ‘PYPL’, ‘NVDA’, ‘AMD’, ‘INTL’, ‘NVTA’, ‘PRLB’, ‘ROKU’, ‘Z’, ‘SNAP’, ‘TWOU’, ‘PLTM’, ‘SILV’, ‘GLD’]"
   ]
  },
  {
   "cell_type": "code",
   "execution_count": 11,
   "metadata": {},
   "outputs": [],
   "source": [
    "portfolio = ['TSLA', 'MCD', 'WMT', 'COST', 'ARCT', 'CRSP', 'TWST', \n",
    "             'EDIT', 'VCYT', 'DEO', 'STZ', 'LMND', 'ETSY', 'WORK', \n",
    "             'ZOOM', 'NET', 'OSTK', 'DOCU', 'SAP', 'SQ', 'PYPL', \n",
    "             'NVDA', 'AMD', 'INTL', 'NVTA', 'PRLB', 'ROKU', 'Z', \n",
    "             'SNAP', 'AAPL', 'PLTM', 'SILV', 'GLD']"
   ]
  },
  {
   "cell_type": "markdown",
   "metadata": {},
   "source": [
    "### Process \n",
    "  1. Retrieve the daily charts for each ticker\n",
    "  2. Calculate Sharpe ratio relative to S&P500 Xyear\n",
    "  3. Minimize for the -Sharpe ratio, such that sum of all allocations = 1.0"
   ]
  },
  {
   "cell_type": "code",
   "execution_count": null,
   "metadata": {},
   "outputs": [],
   "source": [
    "# for each ticker in portfolio \n",
    "# retrieve data from the last x time \n",
    "# store data into a 3d dataframe where\n",
    "# x = ticker, y = day, z = O,H,L,C\n",
    "class Portfolio():\n",
    "    self.portfolio = []\n",
    "    def __init__(self, benchmark):\n",
    "        self.benchmark = benchmark\n",
    "        \n",
    "    def add_securities(self, securities):\n",
    "        ''' Takes a list, securities, and adds each element in the list to our portfolio'''\n",
    "        self.portfolio.append( t for t in securities if self.validate_ticker(t))\n",
    "        \n",
    "    def remove_securities(self, securities):\n",
    "        ''' Takes a list, securities, and removes each element our portfolio'''\n",
    "        self.portfolio = [ s for s in self.portfolio if s not in securities]\n",
    "    \n",
    "    # TODO: verify that ticker legit \n",
    "    def validate_ticker(self, ticker):\n",
    "        return True"
   ]
  }
 ],
 "metadata": {
  "kernelspec": {
   "display_name": "Python 3",
   "language": "python",
   "name": "python3"
  },
  "language_info": {
   "codemirror_mode": {
    "name": "ipython",
    "version": 3
   },
   "file_extension": ".py",
   "mimetype": "text/x-python",
   "name": "python",
   "nbconvert_exporter": "python",
   "pygments_lexer": "ipython3",
   "version": "3.6.8"
  }
 },
 "nbformat": 4,
 "nbformat_minor": 2
}
